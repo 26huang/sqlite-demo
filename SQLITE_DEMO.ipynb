{
 "cells": [
  {
   "cell_type": "markdown",
   "id": "6ee923fe",
   "metadata": {},
   "source": [
    "## Some of The Most Important SQL Commands\n",
    "SELECT - extracts data from a database\n",
    "\n",
    "UPDATE - updates data in a database\n",
    "\n",
    "DELETE - deletes data from a database\n",
    "\n",
    "INSERT INTO - inserts new data into a database\n",
    "\n",
    "CREATE DATABASE - creates a new database\n",
    "\n",
    "ALTER DATABASE - modifies a database\n",
    "\n",
    "CREATE TABLE - creates a new table\n",
    "\n",
    "ALTER TABLE - modifies a table\n",
    "\n",
    "DROP TABLE - deletes a table\n",
    "\n",
    "CREATE INDEX - creates an index (search key)\n",
    "\n",
    "DROP INDEX - deletes an index"
   ]
  },
  {
   "cell_type": "markdown",
   "id": "06d0ffe2",
   "metadata": {},
   "source": [
    "# Make connection to database and return all table names"
   ]
  },
  {
   "cell_type": "code",
   "execution_count": null,
   "id": "6a71410e",
   "metadata": {},
   "outputs": [],
   "source": [
    "import sqlite3"
   ]
  },
  {
   "cell_type": "code",
   "execution_count": null,
   "id": "6d290c08",
   "metadata": {},
   "outputs": [],
   "source": [
    "def sql_query(cmd):\n",
    "    conn = sqlite3.connect('./Data/Northwind_small.sqlite')\n",
    "    c = conn.cursor()\n",
    "    c.execute(cmd)\n",
    "    data = c.fetchall()\n",
    "    conn.commit()\n",
    "    c.close()\n",
    "    return data"
   ]
  },
  {
   "cell_type": "code",
   "execution_count": null,
   "id": "51143186",
   "metadata": {},
   "outputs": [],
   "source": [
    "sql_query(\"select name from sqlite_master where type='table'\")"
   ]
  },
  {
   "cell_type": "code",
   "execution_count": null,
   "id": "b0e36caf",
   "metadata": {},
   "outputs": [],
   "source": [
    "sql_query(\"select * from pragma_table_info('pragma_table_info')\")"
   ]
  },
  {
   "cell_type": "markdown",
   "id": "c984690c",
   "metadata": {},
   "source": [
    "# Return column names"
   ]
  },
  {
   "cell_type": "code",
   "execution_count": null,
   "id": "64a870a2",
   "metadata": {},
   "outputs": [],
   "source": [
    "sql_query(\"select name from pragma_table_info('employee')\")"
   ]
  },
  {
   "cell_type": "markdown",
   "id": "50cce8c5",
   "metadata": {},
   "source": [
    "# Return specific column(s) data"
   ]
  },
  {
   "cell_type": "code",
   "execution_count": null,
   "id": "1c985898",
   "metadata": {},
   "outputs": [],
   "source": [
    "sql_query(\"select lastname, firstname from employee\")"
   ]
  },
  {
   "cell_type": "markdown",
   "id": "3cca1ab0",
   "metadata": {},
   "source": [
    "# Return unique/distinct values and count"
   ]
  },
  {
   "cell_type": "code",
   "execution_count": null,
   "id": "15f52ceb",
   "metadata": {},
   "outputs": [],
   "source": [
    "sql_query(\"select distinct firstname from employee\")"
   ]
  },
  {
   "cell_type": "code",
   "execution_count": null,
   "id": "fd9a036f",
   "metadata": {},
   "outputs": [],
   "source": [
    "sql_query(\"select count(distinct firstname) from employee\")"
   ]
  },
  {
   "cell_type": "code",
   "execution_count": null,
   "id": "61710c07",
   "metadata": {},
   "outputs": [],
   "source": [
    "sql_query(\"select count(*) as distinctnames from (select distinct firstname from employee)\")"
   ]
  },
  {
   "cell_type": "markdown",
   "id": "94258658",
   "metadata": {},
   "source": [
    "# Filter result using WHERE conditions"
   ]
  },
  {
   "cell_type": "code",
   "execution_count": null,
   "id": "0b2c9c75",
   "metadata": {
    "scrolled": true
   },
   "outputs": [],
   "source": [
    "sql_query(\"select * from employee where city!='Seattle'\")"
   ]
  },
  {
   "cell_type": "code",
   "execution_count": null,
   "id": "a96a2f04",
   "metadata": {
    "scrolled": true
   },
   "outputs": [],
   "source": [
    "sql_query(\"select * from employee where reportsto>=5\")"
   ]
  },
  {
   "cell_type": "code",
   "execution_count": null,
   "id": "45ec6a3b",
   "metadata": {},
   "outputs": [],
   "source": [
    "# check for null\n",
    "sql_query(\"select count(*) from employee where reportsto is null\")"
   ]
  },
  {
   "cell_type": "code",
   "execution_count": null,
   "id": "2b5fea63",
   "metadata": {},
   "outputs": [],
   "source": [
    "# using not\n",
    "sql_query(\"select count(*) from employee where not reportsto is null\")"
   ]
  },
  {
   "cell_type": "markdown",
   "id": "058d16df",
   "metadata": {},
   "source": [
    "#### Operators in where clause"
   ]
  },
  {
   "cell_type": "raw",
   "id": "d6d1d1a0",
   "metadata": {},
   "source": [
    "=\tEqual\n",
    ">\tGreater than\t\n",
    "<\tLess than\t\n",
    ">=\tGreater than or equal\t\n",
    "<=\tLess than or equal\t\n",
    "!=\tNot equal. Note: In some versions of SQL this operator may be written as <>\n",
    "BETWEEN\tBetween a certain range\t\n",
    "LIKE\tSearch for a pattern\t\n",
    "IN\tTo specify multiple possible values for a column"
   ]
  },
  {
   "cell_type": "markdown",
   "id": "f90415e4",
   "metadata": {},
   "source": [
    "# Conditions with AND, OR, and NOT "
   ]
  },
  {
   "cell_type": "code",
   "execution_count": null,
   "id": "474b7fcc",
   "metadata": {},
   "outputs": [],
   "source": [
    "sql_query(\"select * from employee where (not reportsto is null) and ((city='Seattle') or (city='London')) \")"
   ]
  },
  {
   "cell_type": "markdown",
   "id": "2a4d0532",
   "metadata": {},
   "source": [
    "# Sort results with ORDER BY"
   ]
  },
  {
   "cell_type": "raw",
   "id": "2750de6e",
   "metadata": {},
   "source": [
    "SELECT * FROM <table>\n",
    "ORDER BY <field1>, <field2> DESC;"
   ]
  },
  {
   "cell_type": "code",
   "execution_count": null,
   "id": "1c8074c9",
   "metadata": {},
   "outputs": [],
   "source": [
    "sql_query(\"select * from employee where (not reportsto is null) and ((city='Seattle') or (city='London')) order by city, lastname\")"
   ]
  },
  {
   "cell_type": "markdown",
   "id": "e05a6b18",
   "metadata": {},
   "source": [
    "# Add data with INSERT INTO"
   ]
  },
  {
   "cell_type": "code",
   "execution_count": null,
   "id": "1274b197",
   "metadata": {},
   "outputs": [],
   "source": [
    "sql_query(\"select name from sqlite_master where type='table'\")"
   ]
  },
  {
   "cell_type": "code",
   "execution_count": null,
   "id": "0dd36903",
   "metadata": {},
   "outputs": [],
   "source": [
    "sql_query(\"select * from pragma_table_info('region')\")"
   ]
  },
  {
   "cell_type": "code",
   "execution_count": null,
   "id": "9ad3b2a9",
   "metadata": {
    "scrolled": true
   },
   "outputs": [],
   "source": [
    "sql_query(\"insert into Region (RegionDescription) values ('Moon')\")"
   ]
  },
  {
   "cell_type": "code",
   "execution_count": null,
   "id": "bc4fc120",
   "metadata": {},
   "outputs": [],
   "source": [
    "sql_query(\"insert into region (Id, RegionDescription) values(5, 'Moon')\")"
   ]
  },
  {
   "cell_type": "code",
   "execution_count": null,
   "id": "801aec13",
   "metadata": {},
   "outputs": [],
   "source": [
    "sql_query(\"select * from region\")"
   ]
  },
  {
   "cell_type": "markdown",
   "id": "b003dc04",
   "metadata": {},
   "source": [
    "# Update records with UPDATE"
   ]
  },
  {
   "cell_type": "code",
   "execution_count": null,
   "id": "914f4058",
   "metadata": {},
   "outputs": [],
   "source": [
    "sql_query(\"update region set regiondescription='Mars' where id=5\")"
   ]
  },
  {
   "cell_type": "code",
   "execution_count": null,
   "id": "135d6f0e",
   "metadata": {},
   "outputs": [],
   "source": [
    "sql_query(\"select * from region\")"
   ]
  },
  {
   "cell_type": "markdown",
   "id": "b42c6c78",
   "metadata": {},
   "source": [
    "# Delete records"
   ]
  },
  {
   "cell_type": "code",
   "execution_count": null,
   "id": "3d1baa94",
   "metadata": {},
   "outputs": [],
   "source": [
    "sql_query(\"delete from region where id=7\")"
   ]
  },
  {
   "cell_type": "code",
   "execution_count": null,
   "id": "fd8466fc",
   "metadata": {},
   "outputs": [],
   "source": [
    "sql_query(\"select * from region\")"
   ]
  },
  {
   "cell_type": "markdown",
   "id": "b5334af9",
   "metadata": {},
   "source": [
    "# LIMIT"
   ]
  },
  {
   "cell_type": "code",
   "execution_count": null,
   "id": "e3a3e331",
   "metadata": {},
   "outputs": [],
   "source": [
    "sql_query(\"select * from region limit 3\")"
   ]
  },
  {
   "cell_type": "raw",
   "id": "f045912d",
   "metadata": {},
   "source": [
    "# Functions"
   ]
  },
  {
   "cell_type": "raw",
   "id": "e6233a3f",
   "metadata": {},
   "source": [
    "min(<field>)\n",
    "max(<field>)\n",
    "count(<field>)\n",
    "avg(<field>)\n",
    "sum(<field>)"
   ]
  },
  {
   "cell_type": "code",
   "execution_count": null,
   "id": "53996c38",
   "metadata": {},
   "outputs": [],
   "source": [
    "sql_query(\"select count(id) from region\")"
   ]
  },
  {
   "cell_type": "markdown",
   "id": "eca44a16",
   "metadata": {},
   "source": [
    "# LIKE"
   ]
  },
  {
   "cell_type": "raw",
   "id": "3861504e",
   "metadata": {},
   "source": [
    "The percent sign (%) represents zero, one, or multiple characters\n",
    "The underscore sign (_) represents one, single character\n",
    "\n",
    "                LIKE Operator\t Description\n",
    "WHERE CustomerName LIKE 'a%'\tFinds any values that start with \"a\"\n",
    "WHERE CustomerName LIKE '%a'\tFinds any values that end with \"a\"\n",
    "WHERE CustomerName LIKE '%or%'\tFinds any values that have \"or\" in any position\n",
    "WHERE CustomerName LIKE '_r%'\tFinds any values that have \"r\" in the second position\n",
    "WHERE CustomerName LIKE 'a_%'\tFinds any values that start with \"a\" and are at least 2 characters in length\n",
    "WHERE CustomerName LIKE 'a__%'\tFinds any values that start with \"a\" and are at least 3 characters in length\n",
    "WHERE ContactName LIKE 'a%o'\tFinds any values that start with \"a\" and ends with \"o\""
   ]
  },
  {
   "cell_type": "code",
   "execution_count": null,
   "id": "da17acaf",
   "metadata": {},
   "outputs": [],
   "source": [
    "sql_query(\"select * from employee where lastname like 'k%'\")"
   ]
  },
  {
   "cell_type": "markdown",
   "id": "ddd65b0b",
   "metadata": {},
   "source": [
    "# Wild cards"
   ]
  },
  {
   "cell_type": "raw",
   "id": "1c0b2751",
   "metadata": {},
   "source": [
    "NOTE: Only % and _ wild cards are used in sqlite\n",
    "\n",
    "Symbol\tDescription\tExample\n",
    "%\tRepresents zero or more characters\tbl% finds bl, black, blue, and blob\n",
    "_\tRepresents a single character\th_t finds hot, hat, and hit"
   ]
  },
  {
   "cell_type": "code",
   "execution_count": null,
   "id": "c066a98c",
   "metadata": {},
   "outputs": [],
   "source": [
    "sql_query(\"select * from employee where lastname like '%ing'\")"
   ]
  },
  {
   "cell_type": "markdown",
   "id": "1cb0c411",
   "metadata": {},
   "source": [
    "# IN operator"
   ]
  },
  {
   "cell_type": "raw",
   "id": "0ff48108",
   "metadata": {},
   "source": [
    "The IN operator is a shorthand for multiple OR conditions."
   ]
  },
  {
   "cell_type": "code",
   "execution_count": null,
   "id": "e76cb7a5",
   "metadata": {},
   "outputs": [],
   "source": [
    "sql_query(\"select firstname from employee where lastname in ('King', 'Suyama')\")"
   ]
  },
  {
   "cell_type": "markdown",
   "id": "c2e2092e",
   "metadata": {},
   "source": [
    "# BETWEEN operator"
   ]
  },
  {
   "cell_type": "code",
   "execution_count": null,
   "id": "d43984fd",
   "metadata": {},
   "outputs": [],
   "source": [
    "sql_query(\"select firstname from employee where id between 1 and 4\")"
   ]
  },
  {
   "cell_type": "code",
   "execution_count": null,
   "id": "6e30553b",
   "metadata": {},
   "outputs": [],
   "source": [
    "sql_query(\"select hiredate from employee where hiredate between '2025-01-01' and '2026-01-01'\")"
   ]
  },
  {
   "cell_type": "markdown",
   "id": "4e0e1d45",
   "metadata": {},
   "source": [
    "# Alias"
   ]
  },
  {
   "cell_type": "raw",
   "id": "29459350",
   "metadata": {},
   "source": [
    "sqlite does not support CONCAT() function. Instead, it uses || to concatinate strings"
   ]
  },
  {
   "cell_type": "code",
   "execution_count": null,
   "id": "aa7f72f6",
   "metadata": {},
   "outputs": [],
   "source": [
    "sql_query(\"select lastname || ', ' || firstname from employee\")"
   ]
  },
  {
   "cell_type": "code",
   "execution_count": null,
   "id": "a299ca14",
   "metadata": {},
   "outputs": [],
   "source": [
    "sql_query(\"select (lastname || ', ' || firstname) as name from employee\")"
   ]
  },
  {
   "cell_type": "code",
   "execution_count": null,
   "id": "871dc781",
   "metadata": {},
   "outputs": [],
   "source": [
    "sql_query(\"select x.lastname from employee as x\")"
   ]
  },
  {
   "cell_type": "markdown",
   "id": "5cc09132",
   "metadata": {},
   "source": [
    "# JOIN"
   ]
  },
  {
   "cell_type": "raw",
   "id": "d5d2495e",
   "metadata": {},
   "source": [
    "Different types of the JOINs in SQL:\n",
    "\n",
    "(INNER) JOIN: Returns records that have matching values in both tables\n",
    "LEFT (OUTER) JOIN: Returns all records from the left table, and the matched records from the right table\n",
    "RIGHT (OUTER) JOIN: Returns all records from the right table, and the matched records from the left table\n",
    "FULL (OUTER) JOIN: Returns all records when there is a match in either left or right table"
   ]
  },
  {
   "cell_type": "code",
   "execution_count": null,
   "id": "fd4f0fba",
   "metadata": {},
   "outputs": [],
   "source": [
    "sql_query(\"select name from sqlite_master where type='table'\")"
   ]
  },
  {
   "cell_type": "code",
   "execution_count": null,
   "id": "306f5252",
   "metadata": {
    "scrolled": false
   },
   "outputs": [],
   "source": [
    "sql_query(\"select name from pragma_table_info('employee')\")"
   ]
  },
  {
   "cell_type": "code",
   "execution_count": null,
   "id": "3fe20952",
   "metadata": {},
   "outputs": [],
   "source": [
    "sql_query(\"select name from pragma_table_info('product')\")"
   ]
  },
  {
   "cell_type": "code",
   "execution_count": null,
   "id": "b03835bd",
   "metadata": {},
   "outputs": [],
   "source": [
    "sql_query(\"select name from pragma_table_info('order')\")"
   ]
  },
  {
   "cell_type": "code",
   "execution_count": null,
   "id": "9b932464",
   "metadata": {
    "scrolled": true
   },
   "outputs": [],
   "source": [
    "sql_query(\"select name from pragma_table_info('customer')\")"
   ]
  },
  {
   "cell_type": "code",
   "execution_count": null,
   "id": "3993a846",
   "metadata": {},
   "outputs": [],
   "source": [
    "sql_query(\"select product.id, product.productname, customer.companyname from ('order', product, orderdetail, customer) where (product.id = orderdetail.productid and orderdetail.orderid = 'order'.id and 'order'.customerid = customer.id) and product.id=5\")"
   ]
  },
  {
   "cell_type": "code",
   "execution_count": null,
   "id": "83adcee0",
   "metadata": {},
   "outputs": [],
   "source": [
    "sql_query(\"select 'order'.id, product.id, product.productname from ('order', product, orderdetail) WHERE ('order'.id = orderdetail.orderid) AND (orderdetail.productid = product.id)\")"
   ]
  },
  {
   "cell_type": "code",
   "execution_count": null,
   "id": "f54f8075",
   "metadata": {},
   "outputs": [],
   "source": [
    "sql_query(\"select employee.id from employee where employee.reportsto in (select employee.id from employee where employee.reportsto=2)\")"
   ]
  },
  {
   "cell_type": "code",
   "execution_count": null,
   "id": "38cce838",
   "metadata": {},
   "outputs": [],
   "source": [
    "sql_query(\"select id, reportsto from employee\")"
   ]
  },
  {
   "cell_type": "code",
   "execution_count": null,
   "id": "8b2c7f97",
   "metadata": {},
   "outputs": [],
   "source": []
  }
 ],
 "metadata": {
  "kernelspec": {
   "display_name": "Python 3",
   "language": "python",
   "name": "python3"
  },
  "language_info": {
   "codemirror_mode": {
    "name": "ipython",
    "version": 3
   },
   "file_extension": ".py",
   "mimetype": "text/x-python",
   "name": "python",
   "nbconvert_exporter": "python",
   "pygments_lexer": "ipython3",
   "version": "3.8.8"
  }
 },
 "nbformat": 4,
 "nbformat_minor": 5
}
