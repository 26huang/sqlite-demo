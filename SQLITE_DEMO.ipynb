{
 "cells": [
  {
   "cell_type": "markdown",
   "id": "66eeadee",
   "metadata": {},
   "source": [
    "# Make connection to database and return all table names"
   ]
  },
  {
   "cell_type": "code",
   "execution_count": null,
   "id": "58c99d68",
   "metadata": {},
   "outputs": [],
   "source": [
    "import sqlite3"
   ]
  },
  {
   "cell_type": "code",
   "execution_count": null,
   "id": "6d13f526",
   "metadata": {},
   "outputs": [],
   "source": [
    "def sql_query(cmd):\n",
    "    conn = sqlite3.connect('./Data/Northwind_small.sqlite')\n",
    "    c = conn.cursor()\n",
    "    c.execute(cmd)\n",
    "    data = c.fetchall()\n",
    "    conn.commit()\n",
    "    c.close()\n",
    "    return data"
   ]
  },
  {
   "cell_type": "code",
   "execution_count": null,
   "id": "cddbe7dc",
   "metadata": {},
   "outputs": [],
   "source": [
    "sql_query(\"select name from sqlite_master where type='table'\")"
   ]
  },
  {
   "cell_type": "code",
   "execution_count": null,
   "id": "1481c9aa",
   "metadata": {},
   "outputs": [],
   "source": [
    "sql_query(\"select * from pragma_table_info('pragma_table_info')\")"
   ]
  },
  {
   "cell_type": "markdown",
   "id": "905a52ee",
   "metadata": {},
   "source": [
    "# Return column names"
   ]
  },
  {
   "cell_type": "code",
   "execution_count": null,
   "id": "9c389c08",
   "metadata": {},
   "outputs": [],
   "source": [
    "sql_query(\"select name from pragma_table_info('employee')\")"
   ]
  },
  {
   "cell_type": "markdown",
   "id": "7dc1b564",
   "metadata": {},
   "source": [
    "# Return specific column(s) data"
   ]
  },
  {
   "cell_type": "code",
   "execution_count": null,
   "id": "55a793ff",
   "metadata": {},
   "outputs": [],
   "source": [
    "sql_query(\"select lastname, firstname from employee\")"
   ]
  },
  {
   "cell_type": "markdown",
   "id": "3f67ce64",
   "metadata": {},
   "source": [
    "# Return unique/distinct values and count"
   ]
  },
  {
   "cell_type": "code",
   "execution_count": null,
   "id": "2c9c5bc6",
   "metadata": {},
   "outputs": [],
   "source": [
    "sql_query(\"select distinct firstname from employee\")"
   ]
  },
  {
   "cell_type": "code",
   "execution_count": null,
   "id": "f97e7adc",
   "metadata": {},
   "outputs": [],
   "source": [
    "sql_query(\"select count(distinct firstname) from employee\")"
   ]
  },
  {
   "cell_type": "code",
   "execution_count": null,
   "id": "c5147175",
   "metadata": {},
   "outputs": [],
   "source": [
    "sql_query(\"select count(*) as distinctnames from (select distinct firstname from employee)\")"
   ]
  },
  {
   "cell_type": "markdown",
   "id": "19c551ad",
   "metadata": {},
   "source": [
    "# Filter result using WHERE conditions"
   ]
  },
  {
   "cell_type": "code",
   "execution_count": null,
   "id": "1165ae35",
   "metadata": {
    "scrolled": true
   },
   "outputs": [],
   "source": [
    "sql_query(\"select * from employee where city!='Seattle'\")"
   ]
  },
  {
   "cell_type": "code",
   "execution_count": null,
   "id": "3c32e041",
   "metadata": {
    "scrolled": true
   },
   "outputs": [],
   "source": [
    "sql_query(\"select * from employee where reportsto>=5\")"
   ]
  },
  {
   "cell_type": "code",
   "execution_count": null,
   "id": "642fceee",
   "metadata": {},
   "outputs": [],
   "source": [
    "# check for null\n",
    "sql_query(\"select count(*) from employee where reportsto is null\")"
   ]
  },
  {
   "cell_type": "code",
   "execution_count": null,
   "id": "4ba9505f",
   "metadata": {},
   "outputs": [],
   "source": [
    "# using not\n",
    "sql_query(\"select count(*) from employee where not reportsto is null\")"
   ]
  },
  {
   "cell_type": "markdown",
   "id": "81d61789",
   "metadata": {},
   "source": [
    "#### Operators in where clause"
   ]
  },
  {
   "cell_type": "raw",
   "id": "bc83921a",
   "metadata": {},
   "source": [
    "=\tEqual\n",
    ">\tGreater than\t\n",
    "<\tLess than\t\n",
    ">=\tGreater than or equal\t\n",
    "<=\tLess than or equal\t\n",
    "!=\tNot equal. Note: In some versions of SQL this operator may be written as <>\n",
    "BETWEEN\tBetween a certain range\t\n",
    "LIKE\tSearch for a pattern\t\n",
    "IN\tTo specify multiple possible values for a column"
   ]
  },
  {
   "cell_type": "markdown",
   "id": "b0ff41be",
   "metadata": {},
   "source": [
    "# Conditions with AND, OR, and NOT "
   ]
  },
  {
   "cell_type": "code",
   "execution_count": null,
   "id": "70043b9a",
   "metadata": {},
   "outputs": [],
   "source": [
    "sql_query(\"select * from employee where (not reportsto is null) and ((city='Seattle') or (city='London')) \")"
   ]
  },
  {
   "cell_type": "markdown",
   "id": "c74e9b32",
   "metadata": {},
   "source": [
    "# Sort results with ORDER BY"
   ]
  },
  {
   "cell_type": "code",
   "execution_count": null,
   "id": "e32de951",
   "metadata": {},
   "outputs": [],
   "source": [
    "# SELECT * FROM <table>\n",
    "# ORDER BY <field1>, <field2> DESC;"
   ]
  },
  {
   "cell_type": "code",
   "execution_count": null,
   "id": "930a9055",
   "metadata": {},
   "outputs": [],
   "source": [
    "sql_query(\"select * from employee where (not reportsto is null) and ((city='Seattle') or (city='London')) order by city, lastname\")"
   ]
  },
  {
   "cell_type": "markdown",
   "id": "6e7d9c77",
   "metadata": {},
   "source": [
    "# Add data with INSERT INTO"
   ]
  },
  {
   "cell_type": "code",
   "execution_count": null,
   "id": "055d1f70",
   "metadata": {},
   "outputs": [],
   "source": [
    "sql_query(\"select name from sqlite_master where type='table'\")"
   ]
  },
  {
   "cell_type": "code",
   "execution_count": null,
   "id": "1478d9d7",
   "metadata": {},
   "outputs": [],
   "source": [
    "sql_query(\"select * from pragma_table_info('region')\")"
   ]
  },
  {
   "cell_type": "code",
   "execution_count": null,
   "id": "9696741f",
   "metadata": {
    "scrolled": true
   },
   "outputs": [],
   "source": [
    "sql_query(\"insert into Region (RegionDescription) values ('Moon')\")"
   ]
  },
  {
   "cell_type": "code",
   "execution_count": null,
   "id": "889ff321",
   "metadata": {},
   "outputs": [],
   "source": [
    "sql_query(\"insert into region (Id, RegionDescription) values(5, 'Moon')\")"
   ]
  },
  {
   "cell_type": "code",
   "execution_count": null,
   "id": "4032f582",
   "metadata": {},
   "outputs": [],
   "source": [
    "sql_query(\"select * from region\")"
   ]
  },
  {
   "cell_type": "markdown",
   "id": "561d9104",
   "metadata": {},
   "source": [
    "# Update records with UPDATE"
   ]
  },
  {
   "cell_type": "code",
   "execution_count": null,
   "id": "5302dee9",
   "metadata": {},
   "outputs": [],
   "source": [
    "sql_query(\"update region set regiondescription='Mars' where id=5\")"
   ]
  },
  {
   "cell_type": "code",
   "execution_count": null,
   "id": "ebaea896",
   "metadata": {},
   "outputs": [],
   "source": [
    "sql_query(\"select * from region\")"
   ]
  },
  {
   "cell_type": "markdown",
   "id": "245641d6",
   "metadata": {},
   "source": [
    "# Delete records"
   ]
  },
  {
   "cell_type": "code",
   "execution_count": null,
   "id": "db2a3fcd",
   "metadata": {},
   "outputs": [],
   "source": [
    "sql_query(\"delete from region where id=7\")"
   ]
  },
  {
   "cell_type": "code",
   "execution_count": null,
   "id": "0882e26f",
   "metadata": {},
   "outputs": [],
   "source": [
    "sql_query(\"select * from region\")"
   ]
  },
  {
   "cell_type": "markdown",
   "id": "bc436f18",
   "metadata": {},
   "source": [
    "# LIMIT"
   ]
  },
  {
   "cell_type": "code",
   "execution_count": null,
   "id": "09a979a2",
   "metadata": {},
   "outputs": [],
   "source": [
    "sql_query(\"select * from region limit 3\")"
   ]
  },
  {
   "cell_type": "raw",
   "id": "0e958fbe",
   "metadata": {},
   "source": [
    "# Functions"
   ]
  },
  {
   "cell_type": "raw",
   "id": "d4053bc0",
   "metadata": {},
   "source": [
    "min(<field>)\n",
    "max(<field>)\n",
    "count(<field>)\n",
    "avg(<field>)\n",
    "sum(<field>)"
   ]
  },
  {
   "cell_type": "code",
   "execution_count": null,
   "id": "87599c9b",
   "metadata": {},
   "outputs": [],
   "source": [
    "sql_query(\"select count(id) from region\")"
   ]
  },
  {
   "cell_type": "markdown",
   "id": "3287d56d",
   "metadata": {},
   "source": [
    "# LIKE"
   ]
  },
  {
   "cell_type": "code",
   "execution_count": null,
   "id": "e2afeabf",
   "metadata": {},
   "outputs": [],
   "source": [
    "# The percent sign (%) represents zero, one, or multiple characters\n",
    "# The underscore sign (_) represents one, single character\n",
    "\n",
    "#                 LIKE Operator\t Description\n",
    "# WHERE CustomerName LIKE 'a%'\tFinds any values that start with \"a\"\n",
    "# WHERE CustomerName LIKE '%a'\tFinds any values that end with \"a\"\n",
    "# WHERE CustomerName LIKE '%or%'\tFinds any values that have \"or\" in any position\n",
    "# WHERE CustomerName LIKE '_r%'\tFinds any values that have \"r\" in the second position\n",
    "# WHERE CustomerName LIKE 'a_%'\tFinds any values that start with \"a\" and are at least 2 characters in length\n",
    "# WHERE CustomerName LIKE 'a__%'\tFinds any values that start with \"a\" and are at least 3 characters in length\n",
    "# WHERE ContactName LIKE 'a%o'\tFinds any values that start with \"a\" and ends with \"o\""
   ]
  },
  {
   "cell_type": "code",
   "execution_count": null,
   "id": "2022355b",
   "metadata": {},
   "outputs": [],
   "source": [
    "sql_query(\"select * from employee where lastname like 'k%'\")"
   ]
  },
  {
   "cell_type": "markdown",
   "id": "27836f19",
   "metadata": {},
   "source": [
    "# Wild cards"
   ]
  },
  {
   "cell_type": "code",
   "execution_count": null,
   "id": "4cd80352",
   "metadata": {},
   "outputs": [],
   "source": [
    "# NOTE: Only % and _ wild cards are used in sqlite\n",
    "\n",
    "# Symbol\tDescription\tExample\n",
    "# %\tRepresents zero or more characters\tbl% finds bl, black, blue, and blob\n",
    "# _\tRepresents a single character\th_t finds hot, hat, and hit"
   ]
  },
  {
   "cell_type": "code",
   "execution_count": null,
   "id": "53d43df6",
   "metadata": {},
   "outputs": [],
   "source": [
    "sql_query(\"select * from employee where lastname like '%ing'\")"
   ]
  },
  {
   "cell_type": "markdown",
   "id": "2f1d3b16",
   "metadata": {},
   "source": [
    "# IN operator"
   ]
  },
  {
   "cell_type": "raw",
   "id": "0fc81fa9",
   "metadata": {},
   "source": [
    "The IN operator is a shorthand for multiple OR conditions."
   ]
  },
  {
   "cell_type": "code",
   "execution_count": null,
   "id": "54faa178",
   "metadata": {},
   "outputs": [],
   "source": [
    "sql_query(\"select firstname from employee where lastname in ('King', 'Suyama')\")"
   ]
  },
  {
   "cell_type": "markdown",
   "id": "34e9e24a",
   "metadata": {},
   "source": [
    "# BETWEEN operator"
   ]
  },
  {
   "cell_type": "code",
   "execution_count": null,
   "id": "d62f30e3",
   "metadata": {},
   "outputs": [],
   "source": [
    "sql_query(\"select firstname from employee where id between 1 and 4\")"
   ]
  },
  {
   "cell_type": "code",
   "execution_count": null,
   "id": "22d90f9e",
   "metadata": {},
   "outputs": [],
   "source": [
    "sql_query(\"select hiredate from employee where hiredate between '2025-01-01' and '2026-01-01'\")"
   ]
  },
  {
   "cell_type": "markdown",
   "id": "b2431dcf",
   "metadata": {},
   "source": [
    "# Alias"
   ]
  },
  {
   "cell_type": "code",
   "execution_count": null,
   "id": "3b89b148",
   "metadata": {},
   "outputs": [],
   "source": [
    "# sqlite does not support CONCAT() function. Instead, it uses || to concatinate strings"
   ]
  },
  {
   "cell_type": "code",
   "execution_count": null,
   "id": "1441c352",
   "metadata": {},
   "outputs": [],
   "source": [
    "sql_query(\"select lastname || ', ' || firstname from employee\")"
   ]
  },
  {
   "cell_type": "code",
   "execution_count": null,
   "id": "1a73bc20",
   "metadata": {},
   "outputs": [],
   "source": [
    "sql_query(\"select (lastname || ', ' || firstname) as name from employee\")"
   ]
  },
  {
   "cell_type": "code",
   "execution_count": null,
   "id": "41dae4a1",
   "metadata": {},
   "outputs": [],
   "source": [
    "sql_query(\"select x.lastname from employee as x\")"
   ]
  },
  {
   "cell_type": "markdown",
   "id": "30e14dd0",
   "metadata": {},
   "source": [
    "# JOIN"
   ]
  },
  {
   "cell_type": "code",
   "execution_count": null,
   "id": "d5df8ebc",
   "metadata": {},
   "outputs": [],
   "source": [
    "# NOTE: right and full outer join are not supported by sqlite3\n",
    "\n",
    "# Different types of the JOINs in SQL:\n",
    "\n",
    "# (INNER) JOIN: Returns records that have matching values in both tables\n",
    "# LEFT (OUTER) JOIN: Returns all records from the left table, and the matched records from the right table"
   ]
  },
  {
   "cell_type": "code",
   "execution_count": null,
   "id": "27fc67f7",
   "metadata": {},
   "outputs": [],
   "source": [
    "sql_query(\"select name from sqlite_master where type='table'\")"
   ]
  },
  {
   "cell_type": "code",
   "execution_count": null,
   "id": "b9365539",
   "metadata": {
    "scrolled": false
   },
   "outputs": [],
   "source": [
    "sql_query(\"select name from pragma_table_info('employee')\")"
   ]
  },
  {
   "cell_type": "code",
   "execution_count": null,
   "id": "4ad062f7",
   "metadata": {},
   "outputs": [],
   "source": [
    "sql_query(\"select name from pragma_table_info('product')\")"
   ]
  },
  {
   "cell_type": "code",
   "execution_count": null,
   "id": "bae3b9c6",
   "metadata": {},
   "outputs": [],
   "source": [
    "sql_query(\"select name from pragma_table_info('order')\")"
   ]
  },
  {
   "cell_type": "code",
   "execution_count": null,
   "id": "aafc00b0",
   "metadata": {
    "scrolled": true
   },
   "outputs": [],
   "source": [
    "sql_query(\"select name from pragma_table_info('customer')\")"
   ]
  },
  {
   "cell_type": "code",
   "execution_count": null,
   "id": "63503bc8",
   "metadata": {},
   "outputs": [],
   "source": [
    "sql_query(\"select product.id, product.productname, customer.companyname from ('order', product, orderdetail, customer) where (product.id = orderdetail.productid and orderdetail.orderid = 'order'.id and 'order'.customerid = customer.id) and product.id=5\")"
   ]
  },
  {
   "cell_type": "code",
   "execution_count": null,
   "id": "672c05c9",
   "metadata": {},
   "outputs": [],
   "source": [
    "sql_query(\"select 'order'.id, product.id, product.productname from ('order', product, orderdetail) WHERE ('order'.id = orderdetail.orderid) AND (orderdetail.productid = product.id)\")"
   ]
  },
  {
   "cell_type": "code",
   "execution_count": null,
   "id": "703c23fa",
   "metadata": {},
   "outputs": [],
   "source": [
    "# self join\n",
    "sql_query(\"select employee.id from employee where employee.reportsto in (select employee.id from employee where employee.reportsto=2)\")"
   ]
  },
  {
   "cell_type": "code",
   "execution_count": null,
   "id": "9800dc7f",
   "metadata": {},
   "outputs": [],
   "source": [
    "sql_query(\"select id, reportsto from employee\")"
   ]
  },
  {
   "cell_type": "code",
   "execution_count": null,
   "id": "64286d36",
   "metadata": {
    "scrolled": true
   },
   "outputs": [],
   "source": [
    "# inner join\n",
    "sql_query(\"select supplier.id, supplier.companyname, product.productname, product.supplierid from (supplier, product) where supplier.id=product.supplierid\")"
   ]
  },
  {
   "cell_type": "code",
   "execution_count": null,
   "id": "891ebb0f",
   "metadata": {
    "scrolled": true
   },
   "outputs": [],
   "source": [
    "# inner join\n",
    "sql_query(\"select supplier.id, supplier.companyname, product.productname, product.supplierid from supplier inner join product on supplier.id=product.supplierid\")"
   ]
  },
  {
   "cell_type": "code",
   "execution_count": null,
   "id": "ff35d6af",
   "metadata": {
    "scrolled": true
   },
   "outputs": [],
   "source": [
    "# left join\n",
    "sql_query(\"select supplier.id, supplier.companyname, product.productname, product.supplierid from supplier left join product on supplier.id=product.supplierid\")"
   ]
  },
  {
   "cell_type": "markdown",
   "id": "96995cb0",
   "metadata": {},
   "source": [
    "# UNION"
   ]
  },
  {
   "cell_type": "code",
   "execution_count": null,
   "id": "7e300d2d",
   "metadata": {},
   "outputs": [],
   "source": [
    "sql_query(\"select 'customer', companyname, region from customer union select 'supplier', companyname, region from supplier\")"
   ]
  },
  {
   "cell_type": "markdown",
   "id": "cee6ede8",
   "metadata": {},
   "source": [
    "# GROUP BY"
   ]
  },
  {
   "cell_type": "code",
   "execution_count": null,
   "id": "b48620a5",
   "metadata": {},
   "outputs": [],
   "source": [
    "# The GROUP BY statement is often used with aggregate functions \n",
    "# (COUNT(), MAX(), MIN(), SUM(), AVG()) to group the result-set by one or more columns."
   ]
  },
  {
   "cell_type": "code",
   "execution_count": null,
   "id": "f092af41",
   "metadata": {},
   "outputs": [],
   "source": [
    "sql_query(\"select count(companyname), region from customer group by region\")"
   ]
  },
  {
   "cell_type": "markdown",
   "id": "9af65920",
   "metadata": {},
   "source": [
    "# HAVING"
   ]
  },
  {
   "cell_type": "code",
   "execution_count": null,
   "id": "f5d353fe",
   "metadata": {},
   "outputs": [],
   "source": [
    "sql_query(\"select count(id), region from customer where region='North America'\")"
   ]
  },
  {
   "cell_type": "code",
   "execution_count": null,
   "id": "ff005386",
   "metadata": {},
   "outputs": [],
   "source": [
    "sql_query(\"select customer.companyname, count('order'.shipregion) from (customer, 'order') where customer.id='order'.customerid group by 'order'.shipregion having count('order'.shipregion) > 100\")"
   ]
  },
  {
   "cell_type": "markdown",
   "id": "a29a5ab5",
   "metadata": {},
   "source": [
    "# EXISTS"
   ]
  },
  {
   "cell_type": "code",
   "execution_count": null,
   "id": "c3b00d65",
   "metadata": {},
   "outputs": [],
   "source": [
    "sql_query(\"select supplier.companyname from (product, supplier) where product.supplierid=supplier.id and unitprice <10 order by supplier.companyname\")"
   ]
  },
  {
   "cell_type": "code",
   "execution_count": null,
   "id": "5bac013c",
   "metadata": {},
   "outputs": [],
   "source": [
    "sql_query(\"select supplier.companyname from supplier where exists (select productname from (product) where product.supplierid=supplier.id and unitprice <10 ) order by supplier.companyname\")"
   ]
  },
  {
   "cell_type": "markdown",
   "id": "0cf6bfc0",
   "metadata": {},
   "source": [
    "# ANY, ALL"
   ]
  },
  {
   "cell_type": "code",
   "execution_count": null,
   "id": "11489ba0",
   "metadata": {},
   "outputs": [],
   "source": [
    "# NOTE: sqlite does not support ANY and ALL operations instead\n",
    "# rewrite ANY using IN \n",
    "# rewrite ALL using MAX() and MIN()"
   ]
  },
  {
   "cell_type": "markdown",
   "id": "02d689e2",
   "metadata": {},
   "source": [
    "# The SQL SELECT INTO Statement"
   ]
  },
  {
   "cell_type": "code",
   "execution_count": null,
   "id": "b4dea270",
   "metadata": {},
   "outputs": [],
   "source": [
    "# NOTE: sqlite does not support SELECT INTO operations instead\n",
    "# use INSERT INTO\n",
    "# create table and use AS "
   ]
  },
  {
   "cell_type": "code",
   "execution_count": null,
   "id": "95e0bd61",
   "metadata": {},
   "outputs": [],
   "source": [
    "sql_query(\"create table if not exists backup as select * from employee where reportsto>3.\")\n",
    "sql_query(\"insert into backup select * from employee where reportsto<3\")\n",
    "sql_query(\"select reportsto from backup\")"
   ]
  },
  {
   "cell_type": "markdown",
   "id": "353d7afd",
   "metadata": {},
   "source": [
    "# CASE"
   ]
  },
  {
   "cell_type": "code",
   "execution_count": null,
   "id": "db973ec9",
   "metadata": {},
   "outputs": [],
   "source": [
    "#     CASE\n",
    "#     WHEN condition1 THEN result1\n",
    "#     WHEN condition2 THEN result2\n",
    "#     WHEN conditionN THEN resultN\n",
    "#     ELSE result\n",
    "#     END;"
   ]
  },
  {
   "cell_type": "code",
   "execution_count": null,
   "id": "7ee87521",
   "metadata": {},
   "outputs": [],
   "source": [
    "sql_query(\"select firstname, case when lastname='Fuller' then 'IT' when lastname='Peacock' then 'BS' else 'MG' end as status, lastname from employee\")"
   ]
  },
  {
   "cell_type": "markdown",
   "id": "93114924",
   "metadata": {},
   "source": [
    "# NULL functions"
   ]
  },
  {
   "cell_type": "code",
   "execution_count": null,
   "id": "cc50128d",
   "metadata": {},
   "outputs": [],
   "source": [
    "# IFNULL() function lets you return an alternative value if an expression is NULL:"
   ]
  },
  {
   "cell_type": "code",
   "execution_count": null,
   "id": "54cec882",
   "metadata": {},
   "outputs": [],
   "source": [
    "sql_query(\"select firstname, lastname, reportsto from employee where reportsto is null\")"
   ]
  },
  {
   "cell_type": "code",
   "execution_count": null,
   "id": "15730409",
   "metadata": {},
   "outputs": [],
   "source": [
    "sql_query(\"select firstname, lastname, ifnull(reportsto,99) from employee\")"
   ]
  },
  {
   "cell_type": "markdown",
   "id": "4932b282",
   "metadata": {},
   "source": [
    "# Stored procedures"
   ]
  },
  {
   "cell_type": "code",
   "execution_count": null,
   "id": "b44a0a39",
   "metadata": {},
   "outputs": [],
   "source": [
    "# NOTE: Sqlite does not support stored procedures"
   ]
  },
  {
   "cell_type": "markdown",
   "id": "af97f419",
   "metadata": {},
   "source": [
    "# SQL Comments"
   ]
  },
  {
   "cell_type": "code",
   "execution_count": null,
   "id": "46a73d77",
   "metadata": {},
   "outputs": [],
   "source": [
    "sql_query(\"--This is a comment: \\n /*multi-line \\ncomments*/\\n select firstname, lastname, ifnull(reportsto,99) from employee\")"
   ]
  },
  {
   "cell_type": "code",
   "execution_count": null,
   "id": "c88c2925",
   "metadata": {},
   "outputs": [],
   "source": []
  },
  {
   "cell_type": "markdown",
   "id": "afc4fe2e",
   "metadata": {},
   "source": [
    "# Create database"
   ]
  },
  {
   "cell_type": "code",
   "execution_count": null,
   "id": "251dca1f",
   "metadata": {},
   "outputs": [],
   "source": [
    "# connect to a database will create db if not exit\n",
    "conn = sqlite3.connect('./Data/testDB.db')\n",
    "conn.close()"
   ]
  },
  {
   "cell_type": "markdown",
   "id": "c1294d81",
   "metadata": {},
   "source": [
    "# Drop database"
   ]
  },
  {
   "cell_type": "code",
   "execution_count": null,
   "id": "ed91f0f3",
   "metadata": {},
   "outputs": [],
   "source": [
    "# Can just delete the sqlite database file"
   ]
  },
  {
   "cell_type": "markdown",
   "id": "c3f08e53",
   "metadata": {},
   "source": [
    "# Backup database"
   ]
  },
  {
   "cell_type": "code",
   "execution_count": null,
   "id": "3f6aa87c",
   "metadata": {},
   "outputs": [],
   "source": [
    "# Copy and paste the database file"
   ]
  },
  {
   "cell_type": "markdown",
   "id": "5e1cfa2b",
   "metadata": {},
   "source": [
    "# Create table"
   ]
  },
  {
   "cell_type": "code",
   "execution_count": null,
   "id": "5b2494de",
   "metadata": {},
   "outputs": [],
   "source": [
    "# SQLITE Datatypes\n",
    "\n",
    "# NULL. The value is a NULL value.\n",
    "\n",
    "# INTEGER. The value is a signed integer, stored in 1, 2, 3, 4, 6, or 8 bytes depending on the magnitude of the value.\n",
    "\n",
    "# REAL. The value is a floating point value, stored as an 8-byte IEEE floating point number.\n",
    "\n",
    "# TEXT. The value is a text string, stored using the database encoding (UTF-8, UTF-16BE or UTF-16LE).\n",
    "\n",
    "# BLOB. The value is a blob of data, stored exactly as it was input."
   ]
  },
  {
   "cell_type": "code",
   "execution_count": null,
   "id": "4d75ecb1",
   "metadata": {},
   "outputs": [],
   "source": [
    "def sql_query_v2(cmd):\n",
    "    conn = sqlite3.connect('./Data/testDB.db')\n",
    "    c = conn.cursor()\n",
    "    c.execute(cmd)\n",
    "    data = c.fetchall()\n",
    "    conn.commit()\n",
    "    conn.close()\n",
    "    return data"
   ]
  },
  {
   "cell_type": "code",
   "execution_count": null,
   "id": "17826ab2",
   "metadata": {},
   "outputs": [],
   "source": [
    "conn = sqlite3.connect('./Data/testDB.db')\n",
    "c = conn.cursor()\n",
    "c.execute(\"create table person (personid int, firstname varchar(255), lastname varchar(255))\")\n",
    "conn.commit()\n",
    "conn.close()"
   ]
  },
  {
   "cell_type": "code",
   "execution_count": null,
   "id": "59f2d152",
   "metadata": {},
   "outputs": [],
   "source": [
    "sql_query_v2(\"select * from pragma_table_info('person')\")"
   ]
  },
  {
   "cell_type": "markdown",
   "id": "5663b85a",
   "metadata": {},
   "source": [
    "# Drop table"
   ]
  },
  {
   "cell_type": "code",
   "execution_count": null,
   "id": "f3247a54",
   "metadata": {},
   "outputs": [],
   "source": [
    "def drop_table(table):\n",
    "    sql_query_v2(\"drop table {}\".format(table))\n",
    "    \n",
    "# sql_query_v2(\"drop table person\")\n",
    "# sql_query_v2(\"select * from pragma_table_info('person')\")"
   ]
  },
  {
   "cell_type": "markdown",
   "id": "80c893fc",
   "metadata": {},
   "source": [
    "# Alter table"
   ]
  },
  {
   "cell_type": "code",
   "execution_count": null,
   "id": "2a933d11",
   "metadata": {},
   "outputs": [],
   "source": [
    "# NOTE: sqlite does not support modifying column "
   ]
  },
  {
   "cell_type": "code",
   "execution_count": null,
   "id": "a1c36898",
   "metadata": {},
   "outputs": [],
   "source": [
    "# add column\n",
    "sql_query_v2(\"alter table person add email varchar(255)\")"
   ]
  },
  {
   "cell_type": "code",
   "execution_count": null,
   "id": "7c6f6452",
   "metadata": {},
   "outputs": [],
   "source": [
    "# drop column\n",
    "sql_query_v2(\"alter table person drop email\")"
   ]
  },
  {
   "cell_type": "code",
   "execution_count": null,
   "id": "c5ef01d8",
   "metadata": {},
   "outputs": [],
   "source": [
    "sql_query_v2(\"select * from pragma_table_info('person')\")"
   ]
  },
  {
   "cell_type": "code",
   "execution_count": null,
   "id": "b4eeffe0",
   "metadata": {},
   "outputs": [],
   "source": [
    "sql_query_v2(\"alter table person rename to peps\")"
   ]
  },
  {
   "cell_type": "code",
   "execution_count": null,
   "id": "f6326419",
   "metadata": {},
   "outputs": [],
   "source": [
    "# rename column\n",
    "sql_query_v2(\"alter table person rename column email to address\")"
   ]
  },
  {
   "cell_type": "code",
   "execution_count": null,
   "id": "a0bfeecd",
   "metadata": {},
   "outputs": [],
   "source": [
    "sql_query_v2(\"select * from pragma_table_info('peps')\")"
   ]
  },
  {
   "cell_type": "markdown",
   "id": "f869610d",
   "metadata": {},
   "source": [
    "# Constraints"
   ]
  },
  {
   "cell_type": "code",
   "execution_count": null,
   "id": "5f9ade53",
   "metadata": {},
   "outputs": [],
   "source": [
    "# NOT NULL Constraint − Ensures that a column cannot have NULL value.\n",
    "\n",
    "# DEFAULT Constraint − Provides a default value for a column when none is specified.\n",
    "\n",
    "# UNIQUE Constraint − Ensures that all values in a column are different.\n",
    "\n",
    "# PRIMARY Key − Uniquely identifies each row/record in a database table.\n",
    "\n",
    "# CHECK Constraint − Ensures that all values in a column satisfies certain conditions.\n",
    "\n",
    "# Pragma_table_info columns - cid, name, type, not null, default value, primary key"
   ]
  },
  {
   "cell_type": "code",
   "execution_count": null,
   "id": "6debd42c",
   "metadata": {},
   "outputs": [],
   "source": [
    "# not null\n",
    "sql_query_v2(\"create table person (personid int primary key, firstname varchar(255) NOT NULL, lastname varchar(255) NOT NULL)\")"
   ]
  },
  {
   "cell_type": "code",
   "execution_count": null,
   "id": "6c91662d",
   "metadata": {},
   "outputs": [],
   "source": [
    "sql_query_v2(\"select * from pragma_table_info('person')\")"
   ]
  },
  {
   "cell_type": "code",
   "execution_count": null,
   "id": "9999ca70",
   "metadata": {},
   "outputs": [],
   "source": [
    "# default\n",
    "sql_query_v2(\"create table person (personid int, firstname varchar(255) NOT NULL, lastname varchar(255) DEFAULT 'Banana')\")"
   ]
  },
  {
   "cell_type": "code",
   "execution_count": null,
   "id": "6a4bdb2a",
   "metadata": {},
   "outputs": [],
   "source": [
    "drop_table('person')"
   ]
  },
  {
   "cell_type": "code",
   "execution_count": null,
   "id": "d01ebbe1",
   "metadata": {},
   "outputs": [],
   "source": [
    "# unique\n",
    "sql_query_v2(\"create table person (personid int, firstname varchar(255), lastname varchar(255), UNIQUE (firstname))\")"
   ]
  },
  {
   "cell_type": "code",
   "execution_count": null,
   "id": "656960bb",
   "metadata": {},
   "outputs": [],
   "source": [
    "# primary key\n",
    "sql_query_v2(\"create table person (personid int primary key, firstname varchar(255), lastname varchar(255))\")"
   ]
  },
  {
   "cell_type": "code",
   "execution_count": null,
   "id": "8557cbac",
   "metadata": {},
   "outputs": [],
   "source": [
    "# check\n",
    "sql_query_v2(\"create table person (personid int primary key, firstname varchar(255), lastname varchar(255), age int, check (age>18))\")"
   ]
  },
  {
   "cell_type": "code",
   "execution_count": null,
   "id": "0a57e776",
   "metadata": {},
   "outputs": [],
   "source": []
  }
 ],
 "metadata": {
  "kernelspec": {
   "display_name": "Python 3",
   "language": "python",
   "name": "python3"
  },
  "language_info": {
   "codemirror_mode": {
    "name": "ipython",
    "version": 3
   },
   "file_extension": ".py",
   "mimetype": "text/x-python",
   "name": "python",
   "nbconvert_exporter": "python",
   "pygments_lexer": "ipython3",
   "version": "3.8.8"
  }
 },
 "nbformat": 4,
 "nbformat_minor": 5
}
